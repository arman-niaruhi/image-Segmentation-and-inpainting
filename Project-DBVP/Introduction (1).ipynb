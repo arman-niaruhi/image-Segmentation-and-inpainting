{
 "cells": [
  {
   "cell_type": "markdown",
   "metadata": {},
   "source": [
    "# Introduction to Python & NumPy"
   ]
  },
  {
   "cell_type": "markdown",
   "metadata": {},
   "source": [
    "In our course we will use the Python programming language for implementing and getting familiar with the concepts introduced in the lecture. As a first step we will give a quick overview of the basic functionality of Python and NumPy. This short introduction is far away from being a self-contained tutorial. It rather gives a quick impression of the possibilties Python and NumPy offer. We highly encourage you to do further research on your own, the Python and NumPy documentations might be a good starting point therefor."
   ]
  },
  {
   "cell_type": "markdown",
   "metadata": {},
   "source": [
    "## Python in a nutshell"
   ]
  },
  {
   "cell_type": "markdown",
   "metadata": {},
   "source": [
    "In the following you will get an insight into the basic language concepts."
   ]
  },
  {
   "cell_type": "markdown",
   "metadata": {},
   "source": [
    "### Arithmetic operations"
   ]
  },
  {
   "cell_type": "markdown",
   "metadata": {},
   "source": [
    "Below you find a simple illustration of the basic arithmetic operations in Python:"
   ]
  },
  {
   "cell_type": "code",
   "execution_count": 1,
   "metadata": {},
   "outputs": [
    {
     "name": "stdout",
     "output_type": "stream",
     "text": [
      "5.140000000000001\n",
      "-13\n",
      "20\n",
      "1.7777777777777777\n",
      "1\n",
      "7\n",
      "256\n"
     ]
    }
   ],
   "source": [
    "print(2 + 3.14) # addition\n",
    "print(4 - 17)   # subtraction\n",
    "print(5 * 4)    # multiplication\n",
    "print(16 / 9)   # division\n",
    "print(16 // 9)  # floor division\n",
    "print(16 % 9)   # remainder of division\n",
    "print(2 ** 8)   # exponentiation"
   ]
  },
  {
   "cell_type": "markdown",
   "metadata": {},
   "source": [
    "### Lists"
   ]
  },
  {
   "cell_type": "markdown",
   "metadata": {},
   "source": [
    "Python lists are comparable to arrays in other programming languages. They may, however, contain elements of different data types."
   ]
  },
  {
   "cell_type": "code",
   "execution_count": 4,
   "metadata": {},
   "outputs": [
    {
     "name": "stdout",
     "output_type": "stream",
     "text": [
      "2\n",
      "[1, 'String', 3]\n",
      "[1, 'String', 3, 4]\n",
      "[1, 'String', 3] 4\n"
     ]
    }
   ],
   "source": [
    "elements = [1, 2, 3]    # use square brackets for list initialization\n",
    "print(elements[1])      # list indexing also uses square brackets\n",
    "elements[1] = \"String\"  # lists may contain different data types\n",
    "print(elements)\n",
    "elements.append(4)\n",
    "print(elements)\n",
    "x = elements.pop()\n",
    "print(elements, x)"
   ]
  },
  {
   "cell_type": "markdown",
   "metadata": {},
   "source": [
    "### Slicing"
   ]
  },
  {
   "cell_type": "markdown",
   "metadata": {},
   "source": [
    "A powerful tool for accessing list items is provided by slicing. It allows you to access and manipulate sublists rather than single list elements:"
   ]
  },
  {
   "cell_type": "code",
   "execution_count": 1,
   "metadata": {},
   "outputs": [
    {
     "name": "stdout",
     "output_type": "stream",
     "text": [
      "[0, 1, 2, 3, 4]\n",
      "[1, 2, 3]\n",
      "[0, 1, 2]\n",
      "[2, 3, 4]\n",
      "[0, 1, 2, 3, 4]\n",
      "[0, 1, 2]\n",
      "[0, 2, 4]\n",
      "[4, 3, 2, 1, 0]\n"
     ]
    }
   ],
   "source": [
    "nums = list(range(5))   # range provides a built-in command for creating a list of increasing integers\n",
    "print(nums)\n",
    "print(nums[1:4])        # using 'start:stop' accesses indices from 'start' to 'stop' (exclusively)\n",
    "print(nums[:3])         # 0 as start can be omitted\n",
    "print(nums[2:])         # omitting stop implies indexing to the end\n",
    "print(nums[:])          # lists all elements\n",
    "print(nums[:-2])        # negative indices for counting backwards from the end\n",
    "print(nums[0::2])       # 'start:stop:step' uses a step size of 'step'\n",
    "print(nums[::-1])       # also works backwards"
   ]
  },
  {
   "cell_type": "markdown",
   "metadata": {},
   "source": [
    "#### _Task:_\n",
    "\n",
    "Print the even as well es uneven numbers of `nums` in reverse!"
   ]
  },
  {
   "cell_type": "code",
   "execution_count": null,
   "metadata": {},
   "outputs": [],
   "source": [
    "# your code goes here\n",
    "\n"
   ]
  },
  {
   "cell_type": "markdown",
   "metadata": {},
   "source": [
    "### Loops"
   ]
  },
  {
   "cell_type": "markdown",
   "metadata": {},
   "source": [
    "Loops over lists are fairly intuitive using the `in` expression."
   ]
  },
  {
   "cell_type": "code",
   "execution_count": 2,
   "metadata": {},
   "outputs": [
    {
     "name": "stdout",
     "output_type": "stream",
     "text": [
      "0\n",
      "1\n",
      "2\n",
      "3\n",
      "4\n"
     ]
    }
   ],
   "source": [
    "for el in nums:\n",
    "    print(el)"
   ]
  },
  {
   "cell_type": "markdown",
   "metadata": {},
   "source": [
    "Sometimes it's useful to also access the index of each element in a list:"
   ]
  },
  {
   "cell_type": "code",
   "execution_count": 3,
   "metadata": {},
   "outputs": [
    {
     "name": "stdout",
     "output_type": "stream",
     "text": [
      "Index 0: 4\n",
      "Index 1: 3\n",
      "Index 2: 2\n",
      "Index 3: 1\n",
      "Index 4: 0\n"
     ]
    }
   ],
   "source": [
    "for idx, el in enumerate(nums[::-1]):        # enumerate provides list elements together with their indices\n",
    "    print(\"Index {}: {}\".format(idx, el))    # formatted strings using '.format()'"
   ]
  },
  {
   "cell_type": "markdown",
   "metadata": {},
   "source": [
    "### List comprehensions"
   ]
  },
  {
   "cell_type": "markdown",
   "metadata": {},
   "source": [
    "Another handy tool Python provides are list comprehensions:"
   ]
  },
  {
   "cell_type": "code",
   "execution_count": 4,
   "metadata": {},
   "outputs": [
    {
     "name": "stdout",
     "output_type": "stream",
     "text": [
      "[0, 1, 4, 9, 16]\n",
      "[1, 9]\n"
     ]
    }
   ],
   "source": [
    "print([x ** 2 for x in nums])                 # print squares of elements in nums\n",
    "print([x ** 2 for x in nums if x % 2 == 1])   # prints squares of uneven elements using a conditional statement"
   ]
  },
  {
   "cell_type": "markdown",
   "metadata": {},
   "source": [
    "### Dictionaries"
   ]
  },
  {
   "cell_type": "markdown",
   "metadata": {},
   "source": [
    "Dictionaries contain pairs of keys and values. A dictionary is created like this:"
   ]
  },
  {
   "cell_type": "code",
   "execution_count": 5,
   "metadata": {},
   "outputs": [
    {
     "name": "stdout",
     "output_type": "stream",
     "text": [
      "value1\n",
      "value2\n",
      "2\n",
      "cake\n",
      "3.14159265359\n"
     ]
    }
   ],
   "source": [
    "dic = {\"key1\": \"value1\", \"key2\": \"value2\", 1: 2, \"pie\": \"cake\", \"pi\": 3.14159265359}\n",
    "\n",
    "print(dic[\"key1\"])\n",
    "print(dic[\"key2\"])\n",
    "print(dic[1])\n",
    "print(dic[\"pie\"])\n",
    "print(dic[\"pi\"])"
   ]
  },
  {
   "cell_type": "markdown",
   "metadata": {},
   "source": [
    "As you can see, dictionaries can hadle various data types. Iterating over dictionaries iterates over its keys by default:"
   ]
  },
  {
   "cell_type": "code",
   "execution_count": null,
   "metadata": {},
   "outputs": [],
   "source": [
    "for key in dic:\n",
    "    print(\"Key: {}, Value: {}\".format(key, dic[key]))"
   ]
  },
  {
   "cell_type": "markdown",
   "metadata": {},
   "source": [
    "Alternatively you can iterate over the key-value pairs directly using `items()`:"
   ]
  },
  {
   "cell_type": "code",
   "execution_count": null,
   "metadata": {},
   "outputs": [],
   "source": [
    "for key, value in dic.items():\n",
    "    print(\"Key: {}, Value: {}\".format(key, value))"
   ]
  },
  {
   "cell_type": "markdown",
   "metadata": {},
   "source": [
    "Similar to lists, dictionaries offer dictionary comprehensions for a efficient and implicit creation of dictionaries:"
   ]
  },
  {
   "cell_type": "code",
   "execution_count": 6,
   "metadata": {},
   "outputs": [
    {
     "name": "stdout",
     "output_type": "stream",
     "text": [
      "{0: 1, 1: 2, 2: 3, 3: 4, 4: 5}\n"
     ]
    }
   ],
   "source": [
    "print({i: i + 1 for i in range(5)})"
   ]
  },
  {
   "cell_type": "markdown",
   "metadata": {},
   "source": [
    "### Tuples"
   ]
  },
  {
   "cell_type": "markdown",
   "metadata": {},
   "source": [
    "Tuples are a ordered set of elements. Unlike lists, however, tuples can't be modified after creation. This is related to the notion of _mutability_ covered in the next section."
   ]
  },
  {
   "cell_type": "code",
   "execution_count": 7,
   "metadata": {},
   "outputs": [
    {
     "name": "stdout",
     "output_type": "stream",
     "text": [
      "2\n",
      "<class 'tuple'>\n"
     ]
    }
   ],
   "source": [
    "t = (1, 2, 3)\n",
    "print(t[1])\n",
    "print(type(t))"
   ]
  },
  {
   "cell_type": "markdown",
   "metadata": {},
   "source": [
    "### Mutable and immutable objects"
   ]
  },
  {
   "cell_type": "markdown",
   "metadata": {},
   "source": [
    "In Python each object has a unique id and type that doesn't change after creation. We can access them with `id()` and `type()`:"
   ]
  },
  {
   "cell_type": "code",
   "execution_count": null,
   "metadata": {},
   "outputs": [],
   "source": [
    "n = 10\n",
    "print(\"Id: {}, Type: {}\".format(id(n), type(n)))\n",
    "\n",
    "n2 = 10\n",
    "print(\"Id: {}, Type: {}\".format(id(n2), type(n2)))\n",
    "\n",
    "s = \"string\"\n",
    "print(\"Id: {}, Type: {}\".format(id(s), type(s)))\n",
    "\n",
    "s2 = \"string\"\n",
    "print(\"Id: {}, Type: {}\".format(id(s2), type(s2)))\n",
    "\n",
    "l = [1, 2, 3]\n",
    "print(\"Id: {}, Type: {}\".format(id(l), type(l)))\n",
    "\n",
    "l2 = [1, 2, 3]\n",
    "print(\"Id: {}, Type: {}\".format(id(l2), type(l2)))"
   ]
  },
  {
   "cell_type": "markdown",
   "metadata": {},
   "source": [
    "Interestingly, `s` and `s2`, as well as `n` and `n2`, refer to the same object, whereas `l` and `l2` don't. This is due to the fact that strings and integers are _immutable_ while lists and dicts are _mutable_. As the name suggests, immutable objects can't change their value during runtime rendering the instantation of multiple objects with the same value needless. This behaviour is also reflected in variable assignments. Consider the following example:"
   ]
  },
  {
   "cell_type": "code",
   "execution_count": 8,
   "metadata": {},
   "outputs": [
    {
     "name": "stdout",
     "output_type": "stream",
     "text": [
      "True\n",
      "False\n",
      "11\n",
      "10\n"
     ]
    }
   ],
   "source": [
    "x = 10\n",
    "y = x\n",
    "print(x is y)       # 'is' checks if two variables point to the same object\n",
    "\n",
    "x = x + 1           # this assignment doesn't change the value of the integer object holding the number 10,\n",
    "                    # but changes the reference of x to a new object representing the integer 11\n",
    "print(x is y)       # y is still pointing to the integer 10, x is pointing to a new object\n",
    "print(x)\n",
    "print(y)"
   ]
  },
  {
   "cell_type": "markdown",
   "metadata": {},
   "source": [
    "On the contrary, modifications of mutable objects, like lists or dictionaries, don't create new objects, but modify the value of the original objects."
   ]
  },
  {
   "cell_type": "code",
   "execution_count": 9,
   "metadata": {},
   "outputs": [
    {
     "name": "stdout",
     "output_type": "stream",
     "text": [
      "['cat', 'dog', 'horse']\n",
      "True\n",
      "['cat', 'dog', 'bird']\n",
      "True\n"
     ]
    }
   ],
   "source": [
    "animals = [\"cat\", \"dog\", \"horse\"]\n",
    "print(animals)\n",
    "tmp = animals\n",
    "print(tmp is animals)               # tmp and animals point to the same object\n",
    "\n",
    "tmp[2] = \"bird\"                     # tmp still points to the same object, but the object has changed itself\n",
    "print(animals)                      # therefore animals points to the modified object as well\n",
    "print(tmp is animals)"
   ]
  },
  {
   "cell_type": "markdown",
   "metadata": {},
   "source": [
    "This mechanism of mutable and immutable objects also represents the distinction of _call by value_ and _call by reference_ in Python functoin calls. For more details, see https://medium.com/@meghamohan/mutable-and-immutable-side-of-python-c2145cf72747."
   ]
  },
  {
   "cell_type": "markdown",
   "metadata": {},
   "source": [
    "### Functions"
   ]
  },
  {
   "cell_type": "markdown",
   "metadata": {},
   "source": [
    "The Python syntax for defining functions using `def` is straight-forward:"
   ]
  },
  {
   "cell_type": "code",
   "execution_count": 11,
   "metadata": {},
   "outputs": [],
   "source": [
    "def isPrime(n):\n",
    "    if n <= 1:\n",
    "        return False\n",
    "    for i in range(2, n):\n",
    "        if n % i == 0:\n",
    "            return False\n",
    "    return True    "
   ]
  },
  {
   "cell_type": "code",
   "execution_count": 12,
   "metadata": {},
   "outputs": [
    {
     "name": "stdout",
     "output_type": "stream",
     "text": [
      "False\n",
      "True\n",
      "True\n",
      "False\n"
     ]
    }
   ],
   "source": [
    "print(isPrime(1))\n",
    "print(isPrime(2))\n",
    "print(isPrime(17))\n",
    "print(isPrime(18))"
   ]
  },
  {
   "cell_type": "markdown",
   "metadata": {},
   "source": [
    "#### _Task:_\n",
    "\n",
    "Define a function for calculation fibonacci numbers using recursion! The fibonacci sequence is defined as follows:\n",
    "\n",
    "$f_0 = 0$, $f_1 = 1$, $f_i = f_{i-1} + f_{i-2}$, for $i>=2$."
   ]
  },
  {
   "cell_type": "code",
   "execution_count": 13,
   "metadata": {},
   "outputs": [],
   "source": [
    "def fib(n):\n",
    "    # your code goes here\n",
    "    pass"
   ]
  },
  {
   "cell_type": "markdown",
   "metadata": {},
   "source": [
    "Test your implementation running the cell below."
   ]
  },
  {
   "cell_type": "code",
   "execution_count": 14,
   "metadata": {
    "scrolled": true
   },
   "outputs": [
    {
     "name": "stdout",
     "output_type": "stream",
     "text": [
      "Fibonacci number f_0 = None\n",
      "Fibonacci number f_1 = None\n",
      "Fibonacci number f_2 = None\n",
      "Fibonacci number f_3 = None\n",
      "Fibonacci number f_4 = None\n",
      "Fibonacci number f_5 = None\n",
      "Fibonacci number f_6 = None\n",
      "Fibonacci number f_7 = None\n",
      "Fibonacci number f_8 = None\n",
      "Fibonacci number f_9 = None\n"
     ]
    }
   ],
   "source": [
    "for i in range(10):\n",
    "    print(\"Fibonacci number f_{} = {}\".format(i, fib(i)))"
   ]
  },
  {
   "cell_type": "markdown",
   "metadata": {},
   "source": [
    "### Files: read and write"
   ]
  },
  {
   "cell_type": "markdown",
   "metadata": {},
   "source": [
    "It is best practice to access files using the `with` statement. Under the hood it represents a so-called context manager which ensures that the files are properly opend and closed after executing the inner code block. For a more detailed explanation, see https://alysivji.github.io/managing-resources-with-context-managers-pythonic.html."
   ]
  },
  {
   "cell_type": "code",
   "execution_count": 16,
   "metadata": {},
   "outputs": [],
   "source": [
    "with open(\"file.txt\", \"w\") as f:     # \"w\" specifies writing access\n",
    "    f.write(\"Hello world!\\n\")\n",
    "    f.write(\"That was easy ;)\\n\")"
   ]
  },
  {
   "cell_type": "code",
   "execution_count": 17,
   "metadata": {},
   "outputs": [
    {
     "name": "stdout",
     "output_type": "stream",
     "text": [
      "Hello world!\n",
      "That was easy ;)\n",
      "\n",
      "\n"
     ]
    }
   ],
   "source": [
    "with open(\"file.txt\") as f:          # for reading access the second parameter can be omitted\n",
    "    print(f.read())\n",
    "    print(f.read())"
   ]
  },
  {
   "cell_type": "markdown",
   "metadata": {},
   "source": [
    "We might also want to save Python objects to files. Therefor we import the `pickle` module:"
   ]
  },
  {
   "cell_type": "code",
   "execution_count": 19,
   "metadata": {},
   "outputs": [],
   "source": [
    "import pickle"
   ]
  },
  {
   "cell_type": "markdown",
   "metadata": {},
   "source": [
    "Now we can save objects as follows:"
   ]
  },
  {
   "cell_type": "code",
   "execution_count": 20,
   "metadata": {},
   "outputs": [
    {
     "name": "stdout",
     "output_type": "stream",
     "text": [
      "1\n",
      "String\n",
      "{'key': 'value'}\n"
     ]
    }
   ],
   "source": [
    "x = 1\n",
    "s = \"String\"\n",
    "dic = {\"key\": \"value\"}\n",
    "\n",
    "with open(\"obj.pkl\", \"wb\") as f:\n",
    "    pickle.dump([x, s, dic], f)\n",
    "\n",
    "with open(\"obj.pkl\", \"rb\") as f:\n",
    "    obj0, obj1, obj2 = pickle.load(f)\n",
    "\n",
    "print(obj0)\n",
    "print(obj1)\n",
    "print(obj2)"
   ]
  },
  {
   "cell_type": "markdown",
   "metadata": {},
   "source": [
    "#### _Task:_\n",
    "\n",
    "Write the first 10 fibonacci numbers into a file!"
   ]
  },
  {
   "cell_type": "code",
   "execution_count": null,
   "metadata": {},
   "outputs": [],
   "source": [
    "# your code goes here\n",
    "\n"
   ]
  },
  {
   "cell_type": "markdown",
   "metadata": {},
   "source": [
    "### Classes"
   ]
  },
  {
   "cell_type": "markdown",
   "metadata": {},
   "source": [
    "Like most modern programming languages Python incorporates the concept of objects. Classes are defined as in the following example:"
   ]
  },
  {
   "cell_type": "code",
   "execution_count": 21,
   "metadata": {},
   "outputs": [
    {
     "name": "stdout",
     "output_type": "stream",
     "text": [
      "1 + -1i\n",
      "0 + -2i\n"
     ]
    }
   ],
   "source": [
    "class Complex:\n",
    "    \n",
    "    def __init__(self, real, imaginary):                         # constructor\n",
    "        self.real = real\n",
    "        self.imaginary = imaginary\n",
    "    \n",
    "    def __str__(self):\n",
    "        return(\"{} + {}i\".format(self.real, self.imaginary))     # overloading string representation of class\n",
    "    \n",
    "    def square(self):\n",
    "        real = self.real\n",
    "        imaginary = self.imaginary\n",
    "        self.real = real ** 2 - imaginary ** 2\n",
    "        self.imaginary = 2 * real * imaginary\n",
    "    \n",
    "c = Complex(1, -1)\n",
    "print(c)\n",
    "\n",
    "c.square()\n",
    "print(c)"
   ]
  },
  {
   "cell_type": "markdown",
   "metadata": {},
   "source": [
    "Note that the class methods have no access to the object attributes, therefore the object is forwarded as function parameter. Calling a function on an object implicitly forwards the object as parameter of the called function. For a more profound understanding of Python's approach to classes, we refer to https://docs.python.org/3/tutorial/classes.html."
   ]
  },
  {
   "cell_type": "markdown",
   "metadata": {},
   "source": [
    "#### _Task:_\n",
    "\n",
    "Overload the `__mul__` method for the `Complex` class enabling multiplication of complex numbers! Test your implementation by executing the cell below."
   ]
  },
  {
   "cell_type": "code",
   "execution_count": 22,
   "metadata": {},
   "outputs": [
    {
     "ename": "TypeError",
     "evalue": "unsupported operand type(s) for *: 'Complex' and 'Complex'",
     "output_type": "error",
     "traceback": [
      "\u001b[0;31m---------------------------------------------------------------------------\u001b[0m",
      "\u001b[0;31mTypeError\u001b[0m                                 Traceback (most recent call last)",
      "\u001b[0;32m/tmp/ipykernel_48985/2589467379.py\u001b[0m in \u001b[0;36m<module>\u001b[0;34m\u001b[0m\n\u001b[0;32m----> 1\u001b[0;31m \u001b[0mprint\u001b[0m\u001b[0;34m(\u001b[0m\u001b[0mComplex\u001b[0m\u001b[0;34m(\u001b[0m\u001b[0;36m1\u001b[0m\u001b[0;34m,\u001b[0m \u001b[0;36m1\u001b[0m\u001b[0;34m)\u001b[0m \u001b[0;34m*\u001b[0m \u001b[0mComplex\u001b[0m\u001b[0;34m(\u001b[0m\u001b[0;34m-\u001b[0m\u001b[0;36m1\u001b[0m\u001b[0;34m,\u001b[0m \u001b[0;36m1\u001b[0m\u001b[0;34m)\u001b[0m\u001b[0;34m)\u001b[0m\u001b[0;34m\u001b[0m\u001b[0;34m\u001b[0m\u001b[0m\n\u001b[0m",
      "\u001b[0;31mTypeError\u001b[0m: unsupported operand type(s) for *: 'Complex' and 'Complex'"
     ]
    }
   ],
   "source": [
    "print(Complex(1, 1) * Complex(-1, 1))"
   ]
  },
  {
   "cell_type": "markdown",
   "metadata": {},
   "source": [
    "## NumPy"
   ]
  },
  {
   "cell_type": "markdown",
   "metadata": {},
   "source": [
    "NumPy is the standard library for scientific computing and offers a rich set of tools for dealing with multi-dimensional arrays. In order to access the NumPy framework we first have to import the corresponding module:"
   ]
  },
  {
   "cell_type": "code",
   "execution_count": 3,
   "metadata": {},
   "outputs": [],
   "source": [
    "import numpy as np"
   ]
  },
  {
   "cell_type": "markdown",
   "metadata": {},
   "source": [
    "The introducion below is based on https://docs.scipy.org/doc/numpy/user/quickstart.html, which we highly recommend for more detailed explanations."
   ]
  },
  {
   "cell_type": "markdown",
   "metadata": {},
   "source": [
    "### Array creation"
   ]
  },
  {
   "cell_type": "markdown",
   "metadata": {},
   "source": [
    "The class representing multi-dimensional arrays in NumPy is called `ndarray`. There are several ways to create such an array object:"
   ]
  },
  {
   "cell_type": "code",
   "execution_count": 4,
   "metadata": {},
   "outputs": [
    {
     "name": "stdout",
     "output_type": "stream",
     "text": [
      "a1:\n",
      "[1 2 3]\n",
      "int64\n",
      "\n",
      "a2:\n",
      "[1. 2. 3.]\n",
      "float64\n",
      "\n",
      "a3:\n",
      "[[0. 0. 0.]\n",
      " [0. 0. 0.]]\n",
      "float64\n",
      "\n",
      "a4:\n",
      "[[[1 1 1 1 1]\n",
      "  [1 1 1 1 1]\n",
      "  [1 1 1 1 1]\n",
      "  [1 1 1 1 1]]\n",
      "\n",
      " [[1 1 1 1 1]\n",
      "  [1 1 1 1 1]\n",
      "  [1 1 1 1 1]\n",
      "  [1 1 1 1 1]]\n",
      "\n",
      " [[1 1 1 1 1]\n",
      "  [1 1 1 1 1]\n",
      "  [1 1 1 1 1]\n",
      "  [1 1 1 1 1]]]\n",
      "int16\n"
     ]
    }
   ],
   "source": [
    "a1 = np.array([1, 2, 3])                  # creating an ndarray form data type int64\n",
    "print(\"a1:\")\n",
    "print(a1)\n",
    "print(a1.dtype)\n",
    "\n",
    "a2 = np.array([1., 2., 3.])               # creating an ndarray form data type float64\n",
    "print(\"\\na2:\")\n",
    "print(a2)\n",
    "print(a2.dtype)\n",
    "\n",
    "a3 = np.zeros((2, 3))                     # creating a 2x3 matrix of zeros\n",
    "print(\"\\na3:\")\n",
    "print(a3)\n",
    "print(a3.dtype)\n",
    "\n",
    "a4 = np.ones((3, 4, 5), dtype=np.int16)   # creating a 3x4x5 tensor of 16-bit integer ones\n",
    "print(\"\\na4:\")\n",
    "print(a4)\n",
    "print(a4.dtype)"
   ]
  },
  {
   "cell_type": "markdown",
   "metadata": {},
   "source": [
    "The dimensions of an array are called _axes_ in NumPy. The axes of an array are stored in the `shape` property:"
   ]
  },
  {
   "cell_type": "code",
   "execution_count": 27,
   "metadata": {},
   "outputs": [
    {
     "name": "stdout",
     "output_type": "stream",
     "text": [
      "(3,)\n",
      "(3,)\n",
      "(2, 3)\n",
      "(3, 4, 5)\n"
     ]
    }
   ],
   "source": [
    "print(a1.shape)\n",
    "print(a2.shape)\n",
    "print(a3.shape)\n",
    "print(a4.shape)"
   ]
  },
  {
   "cell_type": "markdown",
   "metadata": {},
   "source": [
    "Similar to Python's built-in `range` function, NumPy features `arange` which creates a NumPy array:"
   ]
  },
  {
   "cell_type": "code",
   "execution_count": 5,
   "metadata": {},
   "outputs": [
    {
     "name": "stdout",
     "output_type": "stream",
     "text": [
      "[0 2 4 6 8]\n"
     ]
    }
   ],
   "source": [
    "print(np.arange(0, 10, 2))"
   ]
  },
  {
   "cell_type": "markdown",
   "metadata": {},
   "source": [
    "Sometimes one wants to specify the number of elements rather than the distance between the elements. Then _linspace_ is the function of choice:"
   ]
  },
  {
   "cell_type": "code",
   "execution_count": 29,
   "metadata": {},
   "outputs": [
    {
     "name": "stdout",
     "output_type": "stream",
     "text": [
      "[0. 2. 4. 6. 8.]\n"
     ]
    }
   ],
   "source": [
    "print(np.linspace(0, 8, 5))"
   ]
  },
  {
   "cell_type": "markdown",
   "metadata": {},
   "source": [
    "### Arithmetic operations"
   ]
  },
  {
   "cell_type": "markdown",
   "metadata": {},
   "source": [
    "The basic arithmetic operations on ndarrays apply elementwise. The result gives a reference to a newly created ndarray object."
   ]
  },
  {
   "cell_type": "code",
   "execution_count": 6,
   "metadata": {},
   "outputs": [
    {
     "name": "stdout",
     "output_type": "stream",
     "text": [
      "a:\n",
      "[[1. 1. 1. 1.]\n",
      " [1. 1. 1. 1.]\n",
      " [1. 1. 1. 1.]]\n",
      "\n",
      "b:\n",
      "[[ 1.  2.  3.  4.]\n",
      " [ 5.  6.  7.  8.]\n",
      " [ 9. 10. 11. 12.]]\n",
      "\n",
      "a + b:\n",
      "[[ 2.  3.  4.  5.]\n",
      " [ 6.  7.  8.  9.]\n",
      " [10. 11. 12. 13.]]\n",
      "\n",
      "2 * a:\n",
      "[[ 1.  2.  3.  4.]\n",
      " [ 5.  6.  7.  8.]\n",
      " [ 9. 10. 11. 12.]]\n",
      "\n",
      "a * b:\n",
      "[[ 2.  4.  6.  8.]\n",
      " [10. 12. 14. 16.]\n",
      " [18. 20. 22. 24.]]\n",
      "\n",
      "a ** b:\n",
      "[[2.000e+00 4.000e+00 8.000e+00 1.600e+01]\n",
      " [3.200e+01 6.400e+01 1.280e+02 2.560e+02]\n",
      " [5.120e+02 1.024e+03 2.048e+03 4.096e+03]]\n"
     ]
    }
   ],
   "source": [
    "a = np.ones((3, 4))\n",
    "b = np.array([[1., 2., 3., 4.],\n",
    "              [5., 6., 7., 8.],\n",
    "              [9., 10., 11., 12.]])\n",
    "\n",
    "print(\"a:\")\n",
    "print(a)\n",
    "print(\"\\nb:\")\n",
    "print(b)\n",
    "\n",
    "c = a + b\n",
    "print(\"\\na + b:\")\n",
    "print(c)\n",
    "\n",
    "a = 2 * a\n",
    "print(\"\\n2 * a:\")\n",
    "print(b)\n",
    "\n",
    "c = a * b\n",
    "print(\"\\na * b:\")\n",
    "print(c)\n",
    "\n",
    "c = a ** b\n",
    "print(\"\\na ** b:\")\n",
    "print(c)"
   ]
  },
  {
   "cell_type": "markdown",
   "metadata": {},
   "source": [
    "Some of these operations can be performed *in-place*, meaning the result modifies the original object instead of creating a new object containing the result:"
   ]
  },
  {
   "cell_type": "code",
   "execution_count": 30,
   "metadata": {},
   "outputs": [
    {
     "name": "stdout",
     "output_type": "stream",
     "text": [
      "139842364062288\n",
      "139842364062192\n",
      "[[2. 2. 2. 2.]\n",
      " [2. 2. 2. 2.]\n",
      " [2. 2. 2. 2.]]\n",
      "139842364062192\n",
      "[[3. 3. 3. 3.]\n",
      " [3. 3. 3. 3.]\n",
      " [3. 3. 3. 3.]]\n",
      "139842364062192\n",
      "139842364062192\n"
     ]
    }
   ],
   "source": [
    "a = np.ones((3, 4))\n",
    "print(id(a))\n",
    "\n",
    "a = a + 1                 # a refers to newly created object containing the result\n",
    "print(id(a))\n",
    "print(a)\n",
    "\n",
    "a += 1                    # addition performed in place, i.e. a is still refering to the same object\n",
    "print(id(a))\n",
    "print(a)\n",
    "\n",
    "a *= 2                    # also works for multiplication, exponentiantion, etc....\n",
    "print(id(a))\n",
    "\n",
    "a **= 2\n",
    "print(id(a))"
   ]
  },
  {
   "cell_type": "markdown",
   "metadata": {},
   "source": [
    "### Universal functions"
   ]
  },
  {
   "cell_type": "markdown",
   "metadata": {},
   "source": [
    "By default, NumPy operations are applied elementwise. This also holds for the more advanced mathematical functions like `exp`, `sin`, `cos`, etc.. These so-called *universal functions* return their results in a new array object."
   ]
  },
  {
   "cell_type": "code",
   "execution_count": 7,
   "metadata": {},
   "outputs": [
    {
     "name": "stdout",
     "output_type": "stream",
     "text": [
      "[[ 1.00000000e+00+0.0000000e+00j  2.71828183e+00+0.0000000e+00j]\n",
      " [-1.00000000e+00+1.2246468e-16j  2.20264658e+04+0.0000000e+00j]]\n"
     ]
    }
   ],
   "source": [
    "a = np.array([[0., 1.], [np.pi * 1.j, 10.]])\n",
    "print(np.exp(a))"
   ]
  },
  {
   "cell_type": "code",
   "execution_count": 8,
   "metadata": {
    "scrolled": true
   },
   "outputs": [
    {
     "name": "stdout",
     "output_type": "stream",
     "text": [
      "[ 0.00000000e+00  7.07106781e-01  1.00000000e+00  7.07106781e-01\n",
      "  1.22464680e-16 -7.07106781e-01 -1.00000000e+00 -7.07106781e-01\n",
      " -2.44929360e-16]\n",
      "[ 1.00000000e+00  7.07106781e-01  6.12323400e-17 -7.07106781e-01\n",
      " -1.00000000e+00 -7.07106781e-01 -1.83697020e-16  7.07106781e-01\n",
      "  1.00000000e+00]\n"
     ]
    }
   ],
   "source": [
    "a = np.linspace(0, 2*np.pi, 9)\n",
    "print(np.sin(a))\n",
    "print(np.cos(a))"
   ]
  },
  {
   "cell_type": "markdown",
   "metadata": {},
   "source": [
    "### Matrix multiplication"
   ]
  },
  {
   "cell_type": "markdown",
   "metadata": {},
   "source": [
    "Matrix multiplications can be performed using the symbol __@__:"
   ]
  },
  {
   "cell_type": "code",
   "execution_count": 12,
   "metadata": {},
   "outputs": [
    {
     "name": "stdout",
     "output_type": "stream",
     "text": [
      "A:\n",
      "(2, 3)\n",
      "[[1. 2. 3.]\n",
      " [4. 5. 6.]]\n",
      "\n",
      "B:\n",
      "[[ 0.  6.]\n",
      " [ 2.  8.]\n",
      " [ 4. 10.]]\n",
      "\n",
      "v:\n",
      "[[0.]\n",
      " [1.]\n",
      " [2.]]\n",
      "\n",
      "A @ B:\n",
      "[[ 16.  52.]\n",
      " [ 34. 124.]]\n",
      "\n",
      "Shape of A @ B: \n",
      "(2, 2)\n",
      "\n",
      "A @ v:\n",
      "[[ 8.]\n",
      " [17.]]\n",
      "\n",
      "Shape of A @ v: \n",
      "(2, 1)\n"
     ]
    }
   ],
   "source": [
    "A = np.array([[1., 2., 3.],\n",
    "             [4., 5., 6.]])\n",
    "print(\"A:\")\n",
    "print(A.shape)\n",
    "print(A)\n",
    "\n",
    "B = np.array([[0., 6.],\n",
    "              [2., 8.],\n",
    "              [4., 10.]])\n",
    "print(\"\\nB:\")\n",
    "print(B)\n",
    "\n",
    "print(\"\\nv:\")\n",
    "v = np.array([[0.], [1.], [2.]])\n",
    "print(v)\n",
    "\n",
    "C = A @ B                        # matrix-matrix multiplication\n",
    "print(\"\\nA @ B:\")\n",
    "print(C)\n",
    "print(\"\\nShape of A @ B: \")\n",
    "print(C.shape)\n",
    "\n",
    "c = A @ v                        # matrix-vector multiplication\n",
    "print(\"\\nA @ v:\")\n",
    "print(c)\n",
    "print(\"\\nShape of A @ v: \")\n",
    "print(c.shape)"
   ]
  },
  {
   "cell_type": "markdown",
   "metadata": {},
   "source": [
    "### Sum, min, max, ..."
   ]
  },
  {
   "cell_type": "markdown",
   "metadata": {},
   "source": [
    "The ndarray class features many handy unary functions, a few of them are:"
   ]
  },
  {
   "cell_type": "code",
   "execution_count": 31,
   "metadata": {},
   "outputs": [
    {
     "name": "stdout",
     "output_type": "stream",
     "text": [
      "a:\n",
      "[[ 1.  2.  3.  4.]\n",
      " [ 5.  6.  7.  8.]\n",
      " [ 9. 10. 11. 12.]]\n",
      "\n",
      "Minimum of a:\n",
      "1.0\n",
      "\n",
      "Minimum of a along the second axis:\n",
      "[1. 5. 9.]\n",
      "\n",
      "Sum of a:\n",
      "78.0\n",
      "\n",
      "Sum of a along the first axis:\n",
      "[15. 18. 21. 24.]\n"
     ]
    }
   ],
   "source": [
    "a = np.array([[1., 2., 3., 4.],\n",
    "              [5., 6., 7., 8.],\n",
    "              [9., 10., 11., 12.]])\n",
    "\n",
    "print(\"a:\")\n",
    "print(a)\n",
    "\n",
    "print(\"\\nMinimum of a:\")\n",
    "print(a.min())\n",
    "\n",
    "print(\"\\nMinimum of a along the second axis:\")\n",
    "print(a.min(axis=1))\n",
    "\n",
    "print(\"\\nSum of a:\")\n",
    "print(a.sum())\n",
    "\n",
    "print(\"\\nSum of a along the first axis:\")\n",
    "print(a.sum(axis=0))"
   ]
  },
  {
   "cell_type": "markdown",
   "metadata": {},
   "source": [
    "Specifying the axis applies the operations along this axis. This will be quite useful in the course of this lecture."
   ]
  },
  {
   "cell_type": "markdown",
   "metadata": {},
   "source": [
    "#### _Task:_\n",
    "\n",
    "Given below is a vector `x` representing a 2-D grid of 3-D coordinates. Compute the norm of each 3-D point and save the result as a 2-D grid `y` of the same size (8x8)."
   ]
  },
  {
   "cell_type": "code",
   "execution_count": 13,
   "metadata": {},
   "outputs": [],
   "source": [
    "x = np.random.rand(8, 8, 3)\n",
    "\n",
    "# your code goes here\n",
    "\n"
   ]
  },
  {
   "cell_type": "markdown",
   "metadata": {},
   "source": [
    "### Indexing"
   ]
  },
  {
   "cell_type": "markdown",
   "metadata": {},
   "source": [
    "Arrays are indexed similar to lists and provide the powerful tool of slicing along multiple axes. Specifying a single index along an axis removes this axis from the shape of the result, whereas slicing along this axis keeps the axis in the shape of the result. See below for an example:"
   ]
  },
  {
   "cell_type": "code",
   "execution_count": 14,
   "metadata": {},
   "outputs": [
    {
     "name": "stdout",
     "output_type": "stream",
     "text": [
      "a:\n",
      "[[ 1.  2.  3.  4.]\n",
      " [ 5.  6.  7.  8.]\n",
      " [ 9. 10. 11. 12.]]\n",
      "\n",
      "a[1, 2]:\n",
      "7.0\n",
      "\n",
      "a[1:2, 2]\n",
      "[7.]\n",
      "\n",
      "a[0]\n",
      "[1. 2. 3. 4.]\n",
      "\n",
      "a[..., 2]\n",
      "[ 3.  7. 11.]\n"
     ]
    }
   ],
   "source": [
    "a = np.array([[1., 2., 3., 4.],\n",
    "              [5., 6., 7., 8.],\n",
    "              [9., 10., 11., 12.]])\n",
    "\n",
    "print(\"a:\")\n",
    "print(a)\n",
    "\n",
    "print(\"\\na[1, 2]:\")\n",
    "print(a[1, 2])\n",
    "\n",
    "print(\"\\na[1:2, 2]\")\n",
    "print(a[1:2, 2])\n",
    "\n",
    "print(\"\\na[0]\")\n",
    "print(a[0])\n",
    "\n",
    "print(\"\\na[..., 2]\")\n",
    "print(a[..., 2])"
   ]
  },
  {
   "cell_type": "markdown",
   "metadata": {},
   "source": [
    "As demonstrated above, it is also possible to omit some of the axes for indexing. This is equivalent to indexing the omitted trailing dimensions with `:`. Similarily, writing `...` inserts `:` as often as possible at that position. To illustrate this, consider an array `x` with five axes. Then it holds:\n",
    "-  `x[1, 2, ...]` is equivalent to `x[1, 2, :, :, :]`,\n",
    "-  `x[..., 3]` to `x[:, :, :, :, 3]` and\n",
    "-  `x[4, ..., 5, :]` to `x[4, :, :, 5, :]`."
   ]
  },
  {
   "cell_type": "markdown",
   "metadata": {},
   "source": [
    "### Shape manipulation"
   ]
  },
  {
   "cell_type": "markdown",
   "metadata": {},
   "source": [
    "NumPy allows you to change the shape of an existing array. Consider the following array with all elements along a single axis:"
   ]
  },
  {
   "cell_type": "code",
   "execution_count": 15,
   "metadata": {},
   "outputs": [
    {
     "name": "stdout",
     "output_type": "stream",
     "text": [
      "[ 0  1  2  3  4  5  6  7  8  9 10 11]\n",
      "(12,)\n"
     ]
    }
   ],
   "source": [
    "a = np.arange(12)\n",
    "print(a)\n",
    "print(a.shape)"
   ]
  },
  {
   "cell_type": "markdown",
   "metadata": {},
   "source": [
    "Suppose we want to rearrange the elements of `a` to fit into a 3x4-matrix. This can be done using the `reshape()` command, where we specify the desired shape of the output:"
   ]
  },
  {
   "cell_type": "code",
   "execution_count": 16,
   "metadata": {},
   "outputs": [
    {
     "name": "stdout",
     "output_type": "stream",
     "text": [
      "[[ 0  1  2  3]\n",
      " [ 4  5  6  7]\n",
      " [ 8  9 10 11]]\n",
      "(3, 4)\n"
     ]
    }
   ],
   "source": [
    "b = a.reshape(3, 4)\n",
    "print(b)\n",
    "print(b.shape)"
   ]
  },
  {
   "cell_type": "markdown",
   "metadata": {},
   "source": [
    "`b` now contains a new array of shape 3x4. The reshape operation creates a new array and the original array stays unchanged:"
   ]
  },
  {
   "cell_type": "code",
   "execution_count": 17,
   "metadata": {},
   "outputs": [
    {
     "name": "stdout",
     "output_type": "stream",
     "text": [
      "[ 0  1  2  3  4  5  6  7  8  9 10 11]\n",
      "139924097315536\n",
      "139924097315920\n"
     ]
    }
   ],
   "source": [
    "print(a)\n",
    "print(id(a))\n",
    "print(id(b))"
   ]
  },
  {
   "cell_type": "markdown",
   "metadata": {},
   "source": [
    "If we change some value of `a`, however, also the corresponding value of `b` changes:"
   ]
  },
  {
   "cell_type": "code",
   "execution_count": 18,
   "metadata": {},
   "outputs": [
    {
     "name": "stdout",
     "output_type": "stream",
     "text": [
      "[42  1  2  3  4  5  6  7  8  9 10 11]\n",
      "[[42  1  2  3]\n",
      " [ 4  5  6  7]\n",
      " [ 8  9 10 11]]\n"
     ]
    }
   ],
   "source": [
    "a[0] = 42\n",
    "print(a)\n",
    "print(b)"
   ]
  },
  {
   "cell_type": "markdown",
   "metadata": {},
   "source": [
    "The reason for this behaviour is that array `b` is a so-called _view_ of array `a`, i.e. under the hood `b` still shares the same data with its _base_ `a`:"
   ]
  },
  {
   "cell_type": "code",
   "execution_count": 19,
   "metadata": {},
   "outputs": [
    {
     "name": "stdout",
     "output_type": "stream",
     "text": [
      "True\n"
     ]
    }
   ],
   "source": [
    "print(b.base is a)"
   ]
  },
  {
   "cell_type": "markdown",
   "metadata": {},
   "source": [
    "Also transposition of a matrix and flattening produce views of an array:"
   ]
  },
  {
   "cell_type": "code",
   "execution_count": 20,
   "metadata": {},
   "outputs": [
    {
     "name": "stdout",
     "output_type": "stream",
     "text": [
      "[[42  4  8]\n",
      " [ 1  5  9]\n",
      " [ 2  6 10]\n",
      " [ 3  7 11]]\n",
      "True\n"
     ]
    }
   ],
   "source": [
    "c = b.T                 # transposition\n",
    "print(c)\n",
    "print(c.base is a)"
   ]
  },
  {
   "cell_type": "code",
   "execution_count": 21,
   "metadata": {},
   "outputs": [
    {
     "name": "stdout",
     "output_type": "stream",
     "text": [
      "[42  1  2  3  4  5  6  7  8  9 10 11]\n",
      "True\n"
     ]
    }
   ],
   "source": [
    "d = b.ravel()           # flattening\n",
    "print(d)\n",
    "print(d.base is a)"
   ]
  },
  {
   "cell_type": "markdown",
   "metadata": {},
   "source": [
    "If we only want to change the size of some axis and collapse the other axes into a single axis, we can do so by setting corresponding parameter of the reshape command to `-1`:"
   ]
  },
  {
   "cell_type": "code",
   "execution_count": 24,
   "metadata": {},
   "outputs": [
    {
     "name": "stdout",
     "output_type": "stream",
     "text": [
      "(4, 3, 2, 2)\n",
      "(2, 6, 4)\n"
     ]
    }
   ],
   "source": [
    "a = np.ones((4, 3, 2, 2))\n",
    "print(a.shape)\n",
    "print(a.reshape(2, -1, 4).shape)"
   ]
  },
  {
   "cell_type": "markdown",
   "metadata": {},
   "source": [
    "Finally, there is also an in-place version of reshape, which changes the shape of the array itself:"
   ]
  },
  {
   "cell_type": "code",
   "execution_count": 4,
   "metadata": {},
   "outputs": [
    {
     "name": "stdout",
     "output_type": "stream",
     "text": [
      "(12,)\n"
     ]
    },
    {
     "data": {
      "image/png": "[encoded data removed]",
      "text/plain": [
       "<Figure size 432x288 with 1 Axes>"
      ]
     },
     "metadata": {
      "needs_background": "light"
     },
     "output_type": "display_data"
    }
   ],
   "source": [
    "import numpy as np\n",
    "import matplotlib.pyplot as plt\n",
    "a = np.arange(12)\n",
    "print(a.shape)\n",
    "a.resize(4, 3)\n",
    "plt.imshow(a)\n",
    "plt.show()"
   ]
  },
  {
   "cell_type": "markdown",
   "metadata": {},
   "source": [
    "### Broadcasting"
   ]
  },
  {
   "cell_type": "markdown",
   "metadata": {},
   "source": [
    "NumPy's arithmetic operations only work if the arrays involved are of the same size. However, we were able to do something like adding a scalar to a matrix:"
   ]
  },
  {
   "cell_type": "code",
   "execution_count": 26,
   "metadata": {
    "scrolled": true
   },
   "outputs": [
    {
     "name": "stdout",
     "output_type": "stream",
     "text": [
      "(3, 3)\n",
      "(1,)\n",
      "[[1. 1. 1.]\n",
      " [1. 1. 1.]\n",
      " [1. 1. 1.]]\n"
     ]
    }
   ],
   "source": [
    "a = np.zeros((3, 3))\n",
    "print(a.shape)\n",
    "b = np.ones(1)\n",
    "print(b.shape)\n",
    "print(a + b)"
   ]
  },
  {
   "cell_type": "markdown",
   "metadata": {},
   "source": [
    "This works, because NumPy implicitly converts the scalar `1` to a matrix the same size as `a`. This mechnaism is called _broadcasting_. Whenever two arrays are of different shape, Numpy tries to reshape the arrays, in order to end up with matching shapes. As broadcasting is one of the most powerful and handy features of NumPy, please read the detailed description of this procedure at https://docs.scipy.org/doc/numpy/user/basics.broadcasting.html. We conclude by giving an example of how broadcasting can be used to add a vector to each row of a matrix:"
   ]
  },
  {
   "cell_type": "code",
   "execution_count": 27,
   "metadata": {},
   "outputs": [
    {
     "name": "stdout",
     "output_type": "stream",
     "text": [
      "[[1. 2. 3.]\n",
      " [1. 2. 3.]\n",
      " [1. 2. 3.]\n",
      " [1. 2. 3.]]\n"
     ]
    }
   ],
   "source": [
    "a = np.zeros((4, 3))\n",
    "b = np.array([1, 2, 3])\n",
    "print(a + b)"
   ]
  },
  {
   "cell_type": "markdown",
   "metadata": {},
   "source": [
    "#### _Task:_\n",
    "\n",
    "Create a 4-D Numpy tensor `x` of size 3x3x3x3, where each value is determined by the index of the third axis, i.e. `x[i, j, k, l] = k`."
   ]
  },
  {
   "cell_type": "code",
   "execution_count": null,
   "metadata": {},
   "outputs": [],
   "source": [
    "# your code goes here\n",
    "\n"
   ]
  },
  {
   "cell_type": "markdown",
   "metadata": {},
   "source": [
    "### Solving linear equations"
   ]
  },
  {
   "cell_type": "markdown",
   "metadata": {},
   "source": [
    "Assume we want to solve the equation $Ax = b$ for a square matrix $A$. Using the `numpy.linalg` module this task becomes a piece of cake:"
   ]
  },
  {
   "cell_type": "code",
   "execution_count": 28,
   "metadata": {},
   "outputs": [
    {
     "name": "stdout",
     "output_type": "stream",
     "text": [
      "[[1. 2.]\n",
      " [3. 4.]]\n",
      " * \n",
      "[[ 1. ]\n",
      " [-0.5]]\n",
      " = \n",
      "[[0.]\n",
      " [1.]]\n"
     ]
    }
   ],
   "source": [
    "A = np.array([[1., 2.], [3., 4.]])\n",
    "b = np.array([[0.], [1.]])\n",
    "x = np.linalg.solve(A, b)\n",
    "\n",
    "print(\"{}\\n * \\n{}\\n = \\n{}\".format(A, x, b))"
   ]
  },
  {
   "cell_type": "markdown",
   "metadata": {},
   "source": [
    "Check out the documentation at https://docs.scipy.org/doc/numpy-1.13.0/reference/routines.linalg.html."
   ]
  },
  {
   "cell_type": "markdown",
   "metadata": {},
   "source": [
    "## Matplotlib"
   ]
  },
  {
   "cell_type": "markdown",
   "metadata": {},
   "source": [
    "Matplotlib is a convenient Python module for creating visualizations. Import it as follows:"
   ]
  },
  {
   "cell_type": "code",
   "execution_count": 5,
   "metadata": {},
   "outputs": [],
   "source": [
    "import matplotlib.pyplot as plt \n",
    "import numpy as np"
   ]
  },
  {
   "cell_type": "markdown",
   "metadata": {},
   "source": [
    "In order for our plots to appear in-line, we use the following *magic command*:"
   ]
  },
  {
   "cell_type": "code",
   "execution_count": 32,
   "metadata": {},
   "outputs": [],
   "source": [
    "%matplotlib inline"
   ]
  },
  {
   "cell_type": "markdown",
   "metadata": {},
   "source": [
    "Using the `plot` function, we create a simple line plot of corresponding `x` and `y` values. Let's draw a circle!"
   ]
  },
  {
   "cell_type": "code",
   "execution_count": 6,
   "metadata": {},
   "outputs": [
    {
     "data": {
      "text/plain": [
       "Text(0, 0.5, 'y')"
      ]
     },
     "execution_count": 6,
     "metadata": {},
     "output_type": "execute_result"
    },
    {
     "data": {
      "image/png": "[encoded data removed]",
      "text/plain": [
       "<Figure size 432x288 with 1 Axes>"
      ]
     },
     "metadata": {
      "needs_background": "light"
     },
     "output_type": "display_data"
    }
   ],
   "source": [
    "t = np.linspace(0, 2 * np.pi, 100)\n",
    "x = np.cos(t)\n",
    "y = np.sin(t)\n",
    "\n",
    "plt.plot(x, y)\n",
    "plt.axis(\"equal\")                      # applies same scale to x and y axis\n",
    "plt.title(\"Circle\")                    # plot title\n",
    "plt.xlabel(\"x\")                        # label of x axis\n",
    "plt.ylabel(\"y\")                        # label of y axis"
   ]
  },
  {
   "cell_type": "markdown",
   "metadata": {},
   "source": [
    "Drawing multiple lines inside of one plot is straight-forward:"
   ]
  },
  {
   "cell_type": "code",
   "execution_count": 7,
   "metadata": {},
   "outputs": [
    {
     "data": {
      "text/plain": [
       "(-1.1244713695023443,\n",
       " 1.6249748271191593,\n",
       " -1.0998615404412626,\n",
       " 1.0998615404412626)"
      ]
     },
     "execution_count": 7,
     "metadata": {},
     "output_type": "execute_result"
    },
    {
     "data": {
      "image/png": "[encoded data removed]",
      "text/plain": [
       "<Figure size 432x288 with 1 Axes>"
      ]
     },
     "metadata": {
      "needs_background": "light"
     },
     "output_type": "display_data"
    }
   ],
   "source": [
    "plt.plot(x, y)\n",
    "plt.plot(x + 0.5, y)\n",
    "plt.legend([\"Circle 1\", \"Circle 2\"])   # legend\n",
    "plt.axis(\"equal\")"
   ]
  },
  {
   "cell_type": "markdown",
   "metadata": {},
   "source": [
    "Subplots are a nice tool for comparing figures."
   ]
  },
  {
   "cell_type": "code",
   "execution_count": 9,
   "metadata": {},
   "outputs": [
    {
     "data": {
      "text/plain": [
       "[<matplotlib.lines.Line2D at 0x7ff86f59d580>]"
      ]
     },
     "execution_count": 9,
     "metadata": {},
     "output_type": "execute_result"
    },
    {
     "data": {
      "image/png": "[encoded data removed]",
      "text/plain": [
       "<Figure size 432x288 with 2 Axes>"
      ]
     },
     "metadata": {
      "needs_background": "light"
     },
     "output_type": "display_data"
    }
   ],
   "source": [
    "plt.subplot(2, 1, 1)         # creates a grid of height 2, width 1 and sets first subplot as active\n",
    "plt.plot(t, x)\n",
    "\n",
    "plt.subplot(2, 1, 2)         # sets second subplot as active\n",
    "plt.plot(t, y)"
   ]
  },
  {
   "cell_type": "markdown",
   "metadata": {},
   "source": [
    "#### _Task:_\n",
    "\n",
    "Plot a logarithmic spiral, see https://en.wikipedia.org/wiki/Logarithmic_spiral."
   ]
  },
  {
   "cell_type": "code",
   "execution_count": null,
   "metadata": {},
   "outputs": [],
   "source": [
    "# your code goes here\n",
    "\n"
   ]
  }
 ],
 "metadata": {
  "interpreter": {
   "hash": "31f2aee4e71d21fbe5cf8b01ff0e069b9275f58929596ceb00d14d90e3e16cd6"
  },
  "kernelspec": {
   "display_name": "Python 3.8.10 64-bit",
   "name": "python3"
  },
  "language_info": {
   "codemirror_mode": {
    "name": "ipython",
    "version": 3
   },
   "file_extension": ".py",
   "mimetype": "text/x-python",
   "name": "python",
   "nbconvert_exporter": "python",
   "pygments_lexer": "ipython3",
   "version": "3.8.10"
  }
 },
 "nbformat": 4,
 "nbformat_minor": 4
}
